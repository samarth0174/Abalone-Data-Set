{
  "nbformat": 4,
  "nbformat_minor": 0,
  "metadata": {
    "colab": {
      "name": "AbaloneDataset(Exercise).ipynb",
      "provenance": [],
      "authorship_tag": "ABX9TyPBn6/LRzFKJIhoW3btWDkI",
      "include_colab_link": true
    },
    "kernelspec": {
      "name": "python3",
      "display_name": "Python 3"
    }
  },
  "cells": [
    {
      "cell_type": "markdown",
      "metadata": {
        "id": "view-in-github",
        "colab_type": "text"
      },
      "source": [
        "<a href=\"https://colab.research.google.com/github/samarth0174/Abalone-Data-Set/blob/master/AbaloneDataset(Exercise).ipynb\" target=\"_parent\"><img src=\"https://colab.research.google.com/assets/colab-badge.svg\" alt=\"Open In Colab\"/></a>"
      ]
    },
    {
      "cell_type": "markdown",
      "metadata": {
        "id": "x9Q4H7uYMwib",
        "colab_type": "text"
      },
      "source": [
        "## **Problem Description**\n",
        "Predicting the age of abalone from physical measurements. The age of abalone is determined by cutting the shell through the cone, staining it, and counting the number of rings through a microscope -- a boring and time-consuming task. Other measurements, which are easier to obtain, are used to predict the age. Further information, such as weather patterns and location (hence food availability) may be required to solve the problem.\n",
        "\n",
        "From the original data examples with missing values were removed (the majority having the predicted value missing), and the ranges of the continuous values have been scaled for use with an ANN (by dividing by 200)."
      ]
    },
    {
      "cell_type": "markdown",
      "metadata": {
        "id": "Fj8-xA8dM1Nw",
        "colab_type": "text"
      },
      "source": [
        "## **Steps Involved:**\n",
        "- Importing Libraries\n",
        "- Importing the Dataset\n",
        "- Exploratory Data Analysis\n",
        "> * Univariate Analysis\n",
        "> * Bivariate Analysis\n",
        "- Data preprocessing \n",
        "> * Outlier Handling\n",
        "> * Feature Selection and Standardization\n",
        "- Modeling \n",
        "- Evaluation\n",
        "- Fine tuning using GridSearchCV\n",
        "- Conclusion"
      ]
    },
    {
      "cell_type": "markdown",
      "metadata": {
        "id": "_gGGchuYNJso",
        "colab_type": "text"
      },
      "source": [
        "## **Importing Libraries**"
      ]
    },
    {
      "cell_type": "code",
      "metadata": {
        "id": "wzlXbBVsNLl2",
        "colab_type": "code",
        "colab": {}
      },
      "source": [
        "#importing the necessary packages to process or plot the data\n"
      ],
      "execution_count": 0,
      "outputs": []
    },
    {
      "cell_type": "markdown",
      "metadata": {
        "id": "NWzq7lFDNJxX",
        "colab_type": "text"
      },
      "source": [
        "**Read the data_csv file**"
      ]
    },
    {
      "cell_type": "code",
      "metadata": {
        "id": "IYSluM15NghE",
        "colab_type": "code",
        "colab": {}
      },
      "source": [
        "# with the help of pandas read the csv file  and store in dataframe.\n"
      ],
      "execution_count": 0,
      "outputs": []
    },
    {
      "cell_type": "code",
      "metadata": {
        "id": "QgldtDmbNnrJ",
        "colab_type": "code",
        "colab": {}
      },
      "source": [
        "# using the head function see what is originlly present in the dataset\n"
      ],
      "execution_count": 0,
      "outputs": []
    },
    {
      "cell_type": "markdown",
      "metadata": {
        "id": "D8g7i0ZIMNDj",
        "colab_type": "text"
      },
      "source": [
        "**Shape of the dataset**"
      ]
    },
    {
      "cell_type": "code",
      "metadata": {
        "trusted": true,
        "id": "SoS9WRKvMNDk",
        "colab_type": "code",
        "colab": {}
      },
      "source": [
        "# shape method gives the shape of dataframe\n"
      ],
      "execution_count": 0,
      "outputs": []
    },
    {
      "cell_type": "markdown",
      "metadata": {
        "id": "N5EP06uwMNDw",
        "colab_type": "text"
      },
      "source": [
        "**Size of the dataset**"
      ]
    },
    {
      "cell_type": "code",
      "metadata": {
        "trusted": true,
        "id": "iyayLam-MNDy",
        "colab_type": "code",
        "colab": {}
      },
      "source": [
        "#size"
      ],
      "execution_count": 0,
      "outputs": []
    },
    {
      "cell_type": "markdown",
      "metadata": {
        "id": "bFJsQAUPMND7",
        "colab_type": "text"
      },
      "source": [
        "**Description of all particular column of the dataset**"
      ]
    },
    {
      "cell_type": "code",
      "metadata": {
        "trusted": true,
        "id": "QAmfcS6UMND9",
        "colab_type": "code",
        "colab": {}
      },
      "source": [
        "# descrbe function gives the detailed description of dataframe\n",
        "\n"
      ],
      "execution_count": 0,
      "outputs": []
    },
    {
      "cell_type": "code",
      "metadata": {
        "trusted": true,
        "id": "fkNUi6-pMNEX",
        "colab_type": "code",
        "colab": {}
      },
      "source": [
        "#describe data by group\n"
      ],
      "execution_count": 0,
      "outputs": []
    },
    {
      "cell_type": "code",
      "metadata": {
        "id": "tvlI3QSeN3RX",
        "colab_type": "code",
        "colab": {}
      },
      "source": [
        ""
      ],
      "execution_count": 0,
      "outputs": []
    },
    {
      "cell_type": "markdown",
      "metadata": {
        "id": "AMAHkEiVMNEz",
        "colab_type": "text"
      },
      "source": [
        "## **Exploratory Data Analysis**\n"
      ]
    },
    {
      "cell_type": "markdown",
      "metadata": {
        "_cell_guid": "2ed76eea-004a-42a0-a1c9-c45c092bbb4b",
        "_uuid": "d71ec916875461c07bdb1f9d53d9b0a7210de035",
        "id": "XbaV4yluAMtm",
        "colab_type": "text"
      },
      "source": [
        "## **Univariate analysis**\n",
        "In this section the distribution of each attribute needs to be  analyzed individually. \n",
        "\n",
        "* Decribe data to get insights about data distribution,numerical and categorial attributes\n",
        "* Plot Attribute Histograms\n",
        "* Check the Skewness degree for each attribute\n",
        "* plot count plots , swarm plots\n",
        "* Inference\n",
        "\n"
      ]
    },
    {
      "cell_type": "code",
      "metadata": {
        "_cell_guid": "74f9cf41-4793-4be5-a46e-bdb93067e973",
        "_uuid": "99a4b831313c23573b7972c65637d01dd497c6fe",
        "scrolled": true,
        "id": "kGBccyLhAMtp",
        "colab_type": "code",
        "trusted": true,
        "colab": {}
      },
      "source": [
        "#todo : do a univaiate analysis \n"
      ],
      "execution_count": 0,
      "outputs": []
    },
    {
      "cell_type": "markdown",
      "metadata": {
        "id": "IvBsaQIhNJ2q",
        "colab_type": "text"
      },
      "source": [
        "## **Multivariate Analysis**\n",
        "You have to analyze how the dataset attributes are related and how the independent variables influences the target variable.\n",
        "Draw your inferences accordingly,as this part would help you in better understanding of Dimensinality Reduction or Feature Selection. \n",
        "\n",
        "* Pairplot\n",
        "* heatmaps"
      ]
    },
    {
      "cell_type": "code",
      "metadata": {
        "id": "H6NwLBs2PnLu",
        "colab_type": "code",
        "colab": {}
      },
      "source": [
        "#todo : do a multivariate analysis \n"
      ],
      "execution_count": 0,
      "outputs": []
    },
    {
      "cell_type": "markdown",
      "metadata": {
        "id": "eakvpli6NJ0e",
        "colab_type": "text"
      },
      "source": [
        "\n",
        "\n",
        "---\n",
        "\n"
      ]
    },
    {
      "cell_type": "markdown",
      "metadata": {
        "id": "SxEoXW3uQC6I",
        "colab_type": "text"
      },
      "source": [
        "\n",
        "# **Data Preprocessing**"
      ]
    },
    {
      "cell_type": "markdown",
      "metadata": {
        "id": "eXwo49pSQKUo",
        "colab_type": "text"
      },
      "source": [
        "### **Outlier handling**\n",
        "\n",
        "\n",
        "*   For each attribute vs Age(rings) plot and identify outliers\n",
        "*   Drop them accordingly\n",
        "\n",
        "**eg.** Attribute **Viscera weight(x-axis) Vs Age(y-axis)**\n",
        "\n",
        "\n",
        "![Plot](https://raw.githubusercontent.com/decodrtechnologies/Data-Science/master/Abalone-Data-Set/outliew.png)\n",
        "\n",
        "* from above visualisation inference we need to \n",
        " Drop the df where age<20 and weight>0.5  \n"
      ]
    },
    {
      "cell_type": "code",
      "metadata": {
        "id": "mrh1v0qSQFLj",
        "colab_type": "code",
        "colab": {}
      },
      "source": [
        "# todo : You need to find and remove the outliers in the dataset."
      ],
      "execution_count": 0,
      "outputs": []
    },
    {
      "cell_type": "markdown",
      "metadata": {
        "id": "hGo3V9RJSdQs",
        "colab_type": "text"
      },
      "source": [
        "## **Feature Selection and Standardization**\n",
        "* Using StandardScaler method , standardize the dataset.\n",
        "* Using any Feature Selecion Methods, select the best features.\n",
        "* Perform a Test-train split(25:75)"
      ]
    },
    {
      "cell_type": "code",
      "metadata": {
        "id": "9Q3CfZ4DSkTm",
        "colab_type": "code",
        "colab": {}
      },
      "source": [
        "# todo : Perform preprocessing"
      ],
      "execution_count": 0,
      "outputs": []
    },
    {
      "cell_type": "code",
      "metadata": {
        "id": "Yx9UHk83ln4_",
        "colab_type": "code",
        "colab": {}
      },
      "source": [
        "#standardize the dataset"
      ],
      "execution_count": 0,
      "outputs": []
    },
    {
      "cell_type": "code",
      "metadata": {
        "id": "7u8-yOzvlo2r",
        "colab_type": "code",
        "colab": {}
      },
      "source": [
        "#Select best features"
      ],
      "execution_count": 0,
      "outputs": []
    },
    {
      "cell_type": "code",
      "metadata": {
        "id": "jcsMB-U3l7sq",
        "colab_type": "code",
        "colab": {}
      },
      "source": [
        "#test-train split(75% train and 25% test)"
      ],
      "execution_count": 0,
      "outputs": []
    },
    {
      "cell_type": "markdown",
      "metadata": {
        "id": "c5TtZLGFTIFh",
        "colab_type": "text"
      },
      "source": [
        "\n",
        "\n",
        "---\n",
        "\n"
      ]
    },
    {
      "cell_type": "markdown",
      "metadata": {
        "id": "OUQiE6s7TIKE",
        "colab_type": "text"
      },
      "source": [
        "## **Model Selection**"
      ]
    },
    {
      "cell_type": "markdown",
      "metadata": {
        "id": "XfpwoCggTJl0",
        "colab_type": "text"
      },
      "source": [
        "Compare the performance of different Regressors\n",
        "* Linear Regressor\n",
        "* SVR\n",
        "* RandomForest Regressor\n",
        "* Lasso Regression\n",
        "* Kernel Ridge Regression\n",
        "* Gradient Boosting Regression\n",
        "* Knn Regressor\n",
        "\n",
        "**For each Model perform 10 fold cross validation and select the best model**\n",
        "\n",
        "Use GridSearch to Finetune the selected model"
      ]
    },
    {
      "cell_type": "markdown",
      "metadata": {
        "id": "_53XarRPmtnc",
        "colab_type": "text"
      },
      "source": [
        ""
      ]
    },
    {
      "cell_type": "markdown",
      "metadata": {
        "id": "c0gbUYJ_mtvh",
        "colab_type": "text"
      },
      "source": [
        "## Linear Regressor"
      ]
    },
    {
      "cell_type": "code",
      "metadata": {
        "id": "PTYgGtXjmzPs",
        "colab_type": "code",
        "colab": {}
      },
      "source": [
        "##Build Regression model using Inbuilt classifier scikit learn\n",
        "\n",
        "#Write your code here"
      ],
      "execution_count": 0,
      "outputs": []
    },
    {
      "cell_type": "markdown",
      "metadata": {
        "id": "iwP42up-mttc",
        "colab_type": "text"
      },
      "source": [
        ""
      ]
    },
    {
      "cell_type": "markdown",
      "metadata": {
        "colab_type": "text",
        "id": "iPxjtlwOnCKS"
      },
      "source": [
        "## SVR"
      ]
    },
    {
      "cell_type": "code",
      "metadata": {
        "colab_type": "code",
        "id": "pcAOM6_rnCKe",
        "colab": {}
      },
      "source": [
        "##Build Regression model using Inbuilt classifier scikit learn\n",
        "\n",
        "#Write your code here"
      ],
      "execution_count": 0,
      "outputs": []
    },
    {
      "cell_type": "markdown",
      "metadata": {
        "colab_type": "text",
        "id": "rcbLw663nB6-"
      },
      "source": [
        "## RandomForest Regressor"
      ]
    },
    {
      "cell_type": "code",
      "metadata": {
        "colab_type": "code",
        "id": "60FofxopnB7P",
        "colab": {}
      },
      "source": [
        "##Build RandomForest Regressor model using Inbuilt classifier scikit learn\n",
        "\n",
        "#Write your code here"
      ],
      "execution_count": 0,
      "outputs": []
    },
    {
      "cell_type": "markdown",
      "metadata": {
        "colab_type": "text",
        "id": "yYK6VoM4nBpD"
      },
      "source": [
        "## Lasso Regression"
      ]
    },
    {
      "cell_type": "code",
      "metadata": {
        "colab_type": "code",
        "id": "E6AZmQpQnBpO",
        "colab": {}
      },
      "source": [
        "##Build Lasso Regression model using Inbuilt classifier scikit learn\n",
        "\n",
        "#Write your code here"
      ],
      "execution_count": 0,
      "outputs": []
    },
    {
      "cell_type": "markdown",
      "metadata": {
        "colab_type": "text",
        "id": "OQWi_7BGnBQ0"
      },
      "source": [
        "## Kernel Ridge Regression"
      ]
    },
    {
      "cell_type": "code",
      "metadata": {
        "colab_type": "code",
        "id": "MF8wwxxpnBQ8",
        "colab": {}
      },
      "source": [
        "##Build Kernel Ridge Regression model using Inbuilt classifier scikit learn\n",
        "\n",
        "#Write your code here"
      ],
      "execution_count": 0,
      "outputs": []
    },
    {
      "cell_type": "markdown",
      "metadata": {
        "colab_type": "text",
        "id": "BMMXa4D8m-i0"
      },
      "source": [
        "## Gradient Boosting Regression"
      ]
    },
    {
      "cell_type": "code",
      "metadata": {
        "colab_type": "code",
        "id": "Re9taVXIm-jK",
        "colab": {}
      },
      "source": [
        "##Build Gradient Boosting Regression model using Inbuilt classifier scikit learn\n",
        "\n",
        "#Write your code here"
      ],
      "execution_count": 0,
      "outputs": []
    },
    {
      "cell_type": "markdown",
      "metadata": {
        "id": "sBwzCT9wnXg7",
        "colab_type": "text"
      },
      "source": [
        "## Knn Regressor"
      ]
    },
    {
      "cell_type": "code",
      "metadata": {
        "id": "TdjgHp3OnY3x",
        "colab_type": "code",
        "colab": {}
      },
      "source": [
        "##Build Gradient Boosting Regression model using Inbuilt classifier scikit learn\n",
        "\n",
        "#Write your code here"
      ],
      "execution_count": 0,
      "outputs": []
    },
    {
      "cell_type": "code",
      "metadata": {
        "id": "uLhXRuIAVU3x",
        "colab_type": "code",
        "colab": {}
      },
      "source": [
        "'''todo : \n",
        "* modeling/GridSearch finetuning\n",
        "'''"
      ],
      "execution_count": 0,
      "outputs": []
    },
    {
      "cell_type": "markdown",
      "metadata": {
        "id": "Srnjl0_YV21A",
        "colab_type": "text"
      },
      "source": [
        "## Conclusion"
      ]
    },
    {
      "cell_type": "code",
      "metadata": {
        "id": "NKzyNpvkV300",
        "colab_type": "code",
        "colab": {}
      },
      "source": [
        ""
      ],
      "execution_count": 0,
      "outputs": []
    }
  ]
}