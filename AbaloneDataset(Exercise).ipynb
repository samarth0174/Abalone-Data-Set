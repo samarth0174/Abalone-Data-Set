{
  "nbformat": 4,
  "nbformat_minor": 0,
  "metadata": {
    "colab": {
      "name": "AbaloneDataset(Exercise).ipynb",
      "provenance": [],
      "authorship_tag": "ABX9TyMU8Yjm6zDPZmHTAy4faPXF",
      "include_colab_link": true
    },
    "kernelspec": {
      "name": "python3",
      "display_name": "Python 3"
    }
  },
  "cells": [
    {
      "cell_type": "markdown",
      "metadata": {
        "id": "view-in-github",
        "colab_type": "text"
      },
      "source": [
        "<a href=\"https://colab.research.google.com/github/samarth0174/Abalone-Data-Set/blob/master/AbaloneDataset(Exercise).ipynb\" target=\"_parent\"><img src=\"https://colab.research.google.com/assets/colab-badge.svg\" alt=\"Open In Colab\"/></a>"
      ]
    },
    {
      "cell_type": "markdown",
      "metadata": {
        "id": "x9Q4H7uYMwib",
        "colab_type": "text"
      },
      "source": [
        "## **Problem Description**\n",
        "Predicting the age of abalone from physical measurements. The age of abalone is determined by cutting the shell through the cone, staining it, and counting the number of rings through a microscope -- a boring and time-consuming task. Other measurements, which are easier to obtain, are used to predict the age. Further information, such as weather patterns and location (hence food availability) may be required to solve the problem.\n",
        "\n",
        "From the original data examples with missing values were removed (the majority having the predicted value missing), and the ranges of the continuous values have been scaled for use with an ANN (by dividing by 200)."
      ]
    },
    {
      "cell_type": "markdown",
      "metadata": {
        "id": "Fj8-xA8dM1Nw",
        "colab_type": "text"
      },
      "source": [
        "## **Steps Involved:**\n",
        "- Importing Libraries\n",
        "- Importing the Dataset\n",
        "- Exploratory Data Analysis\n",
        "> * Univariate Analysis\n",
        "> * Bivariate Analysis\n",
        "- Data preprocessing \n",
        "> * Outlier Handling\n",
        "> * Feature Selection and Standardization\n",
        "- Modeling \n",
        "- Evaluation\n",
        "- Fine tuning using GridSearchCV\n",
        "- Conclusion"
      ]
    },
    {
      "cell_type": "markdown",
      "metadata": {
        "id": "_gGGchuYNJso",
        "colab_type": "text"
      },
      "source": [
        "## **Importing Libraries**"
      ]
    },
    {
      "cell_type": "code",
      "metadata": {
        "id": "wzlXbBVsNLl2",
        "colab_type": "code",
        "colab": {}
      },
      "source": [
        "#importing the necessary packages to process or plot the data\n"
      ],
      "execution_count": 0,
      "outputs": []
    },
    {
      "cell_type": "markdown",
      "metadata": {
        "id": "NWzq7lFDNJxX",
        "colab_type": "text"
      },
      "source": [
        "**Read the data_csv file**"
      ]
    },
    {
      "cell_type": "code",
      "metadata": {
        "id": "IYSluM15NghE",
        "colab_type": "code",
        "colab": {}
      },
      "source": [
        "# with the help of pandas read the csv file  and store in dataframe.\n"
      ],
      "execution_count": 0,
      "outputs": []
    },
    {
      "cell_type": "code",
      "metadata": {
        "id": "QgldtDmbNnrJ",
        "colab_type": "code",
        "colab": {}
      },
      "source": [
        "# using the head function see what is originlly present in the dataset\n"
      ],
      "execution_count": 0,
      "outputs": []
    },
    {
      "cell_type": "markdown",
      "metadata": {
        "id": "D8g7i0ZIMNDj",
        "colab_type": "text"
      },
      "source": [
        "**Shape of the dataset**"
      ]
    },
    {
      "cell_type": "code",
      "metadata": {
        "trusted": true,
        "id": "SoS9WRKvMNDk",
        "colab_type": "code",
        "colab": {}
      },
      "source": [
        "# shape method gives the shape of dataframe\n"
      ],
      "execution_count": 0,
      "outputs": []
    },
    {
      "cell_type": "markdown",
      "metadata": {
        "id": "N5EP06uwMNDw",
        "colab_type": "text"
      },
      "source": [
        "**Size of the dataset**"
      ]
    },
    {
      "cell_type": "code",
      "metadata": {
        "trusted": true,
        "id": "iyayLam-MNDy",
        "colab_type": "code",
        "colab": {}
      },
      "source": [
        "#size"
      ],
      "execution_count": 0,
      "outputs": []
    },
    {
      "cell_type": "markdown",
      "metadata": {
        "id": "bFJsQAUPMND7",
        "colab_type": "text"
      },
      "source": [
        "**Description of all particular column of the dataset**"
      ]
    },
    {
      "cell_type": "code",
      "metadata": {
        "trusted": true,
        "id": "QAmfcS6UMND9",
        "colab_type": "code",
        "colab": {}
      },
      "source": [
        "# descrbe function gives the detailed description of dataframe\n",
        "\n"
      ],
      "execution_count": 0,
      "outputs": []
    },
    {
      "cell_type": "code",
      "metadata": {
        "trusted": true,
        "id": "fkNUi6-pMNEX",
        "colab_type": "code",
        "colab": {}
      },
      "source": [
        "#describe data by group\n"
      ],
      "execution_count": 0,
      "outputs": []
    },
    {
      "cell_type": "code",
      "metadata": {
        "id": "tvlI3QSeN3RX",
        "colab_type": "code",
        "colab": {}
      },
      "source": [
        ""
      ],
      "execution_count": 0,
      "outputs": []
    },
    {
      "cell_type": "markdown",
      "metadata": {
        "id": "AMAHkEiVMNEz",
        "colab_type": "text"
      },
      "source": [
        "## **Exploratory Data Analysis**\n"
      ]
    },
    {
      "cell_type": "markdown",
      "metadata": {
        "_cell_guid": "2ed76eea-004a-42a0-a1c9-c45c092bbb4b",
        "_uuid": "d71ec916875461c07bdb1f9d53d9b0a7210de035",
        "id": "XbaV4yluAMtm",
        "colab_type": "text"
      },
      "source": [
        "## **Univariate analysis**\n",
        "In this section the distribution of each attribute needs to be  analyzed individually. You need to start analyzing the distribution of the target attribute Rings. The rest of the attributes are divided in groups for convenience of the analysis: a group called Size, containing attributes that represents the dimensions of an abalone, a group Weight, containing the different weight attributes and a third group composed only of the Sex \n",
        "attribute. Analyze The continous or quantitative attributes using histograms and boxplots, while analyze categorical attributes  using barplot\n",
        "\n",
        "\n",
        "\n"
      ]
    },
    {
      "cell_type": "code",
      "metadata": {
        "_cell_guid": "74f9cf41-4793-4be5-a46e-bdb93067e973",
        "_uuid": "99a4b831313c23573b7972c65637d01dd497c6fe",
        "scrolled": true,
        "id": "kGBccyLhAMtp",
        "colab_type": "code",
        "trusted": true,
        "colab": {}
      },
      "source": [
        "#todo : do a univaiate analysis \n"
      ],
      "execution_count": 0,
      "outputs": []
    },
    {
      "cell_type": "markdown",
      "metadata": {
        "id": "IvBsaQIhNJ2q",
        "colab_type": "text"
      },
      "source": [
        "## **Multivariate Analysis**\n",
        "You have to analyze how the dataset attributes are related and how the independent variables influences the target variable.\n",
        "Draw your inferences accordingly,as this part would help you in better understanding of Dimensinality Reduction or Feature Selection. "
      ]
    },
    {
      "cell_type": "code",
      "metadata": {
        "id": "H6NwLBs2PnLu",
        "colab_type": "code",
        "colab": {}
      },
      "source": [
        "#todo : do a multivariate analysis \n"
      ],
      "execution_count": 0,
      "outputs": []
    },
    {
      "cell_type": "markdown",
      "metadata": {
        "id": "eakvpli6NJ0e",
        "colab_type": "text"
      },
      "source": [
        "\n",
        "\n",
        "---\n",
        "\n"
      ]
    },
    {
      "cell_type": "markdown",
      "metadata": {
        "id": "SxEoXW3uQC6I",
        "colab_type": "text"
      },
      "source": [
        "\n",
        "# **Data Preprocessing**"
      ]
    },
    {
      "cell_type": "markdown",
      "metadata": {
        "id": "eXwo49pSQKUo",
        "colab_type": "text"
      },
      "source": [
        "### **Outlier handling**\n",
        "\n",
        "\n",
        "*   For each attribute vs Age(rings) plot and identify outliers\n",
        "*   Drop them accordingly\n",
        "\n",
        "**eg.** Attribute **Viscera weight(x-axis) Vs Age(y-axis)**\n",
        "\n",
        "\n",
        "![alt text](https://www.kaggleusercontent.com/kf/12744060/eyJhbGciOiJkaXIiLCJlbmMiOiJBMTI4Q0JDLUhTMjU2In0..1vGe1XJz6Pk23xj5P6xE7Q.kcAGo7MnOqMb3oOJRejeVr0RyU7AHXQX2ow8hG0ciUULPBHYlfjTTWSZZU4AlrwIpFwXSmKeki7nNgugD85hVx5IBxJmvBl62FN8VCIG691QoP13g3-x8ZBPOGmEh21irJwQZaweDE1x54e2TmiLNmf8DPMnE4Fj2h7fOOEosXpq0csR5kIofd7k-dzy_1yXNITLoqbL-EbMNMbeIRRPsI5FRMK-Mij63mRJlqaDJtwABAyttGeYvRrYRrg-JCpAN4ukCGjFIMtKvJdJ-vvsNBlK1aaaIPfT-Fy5gL1v6lf0DvolRtlU0LWrUf8CCKA0BandFNOxJDoqSm-QXi-oV0VSFFm6KxaYq302wvVls3tiM1VNFFYykdyQXOgHRdWfyv0TV-Mj2RBvojzvm-1zFjFiRHO54yKOsvmRQC7hWQy6z1837H67JH5RmpH87lG6jnDfMwiIWDGtLDmAGBEkOpgDPkz34AAzIPa6FaLyaegI_1C_JOkmPfueWsNlesAdpyZfDGbLgc40AElDcnh7uoQzF0lLqXnvUonH2-61g3oUSwe384rRr5tx5Zg16_xhBD4q2YgyC3u_33mcEEmYgUT56-LpQCZBPeSoaR9Aj1ZkPqbklHUBotZJblx10i7K6W5B6UFTeFwr-W-VaGCcwGp7NM9iGcdbJKWpSoBuJ1I.7CunFlYagRpepzKQyNH0Yw/__results___files/__results___23_0.png)\n",
        "\n",
        "* from above visualisation inference we need to \n",
        " Drop the df where age<20 and weight>0.5  \n"
      ]
    },
    {
      "cell_type": "code",
      "metadata": {
        "id": "mrh1v0qSQFLj",
        "colab_type": "code",
        "colab": {}
      },
      "source": [
        "# todo : You need to find and remove the outliers in the dataset."
      ],
      "execution_count": 0,
      "outputs": []
    },
    {
      "cell_type": "markdown",
      "metadata": {
        "id": "hGo3V9RJSdQs",
        "colab_type": "text"
      },
      "source": [
        "## **Feature Selection and Standardization**\n",
        "* Using StandardScaler method , standardize the dataset.\n",
        "* Using any Feature Selecion Methods, select the best features.\n",
        "* Perform a Test-train split"
      ]
    },
    {
      "cell_type": "code",
      "metadata": {
        "id": "9Q3CfZ4DSkTm",
        "colab_type": "code",
        "colab": {}
      },
      "source": [
        "# todo : Perform preprocessing"
      ],
      "execution_count": 0,
      "outputs": []
    },
    {
      "cell_type": "markdown",
      "metadata": {
        "id": "c5TtZLGFTIFh",
        "colab_type": "text"
      },
      "source": [
        "\n",
        "\n",
        "---\n",
        "\n"
      ]
    },
    {
      "cell_type": "markdown",
      "metadata": {
        "id": "OUQiE6s7TIKE",
        "colab_type": "text"
      },
      "source": [
        "## **Model Selection**"
      ]
    },
    {
      "cell_type": "markdown",
      "metadata": {
        "id": "XfpwoCggTJl0",
        "colab_type": "text"
      },
      "source": [
        "Compare the performance of different Regressors\n",
        "* Linear Regressor\n",
        "* SVR\n",
        "* RandomForest Regressor\n",
        "* ElasticNet Regression\n",
        "* Lasso Regression\n",
        "* Kernel Ridge Regression\n",
        "* Gradient Boosting Regression\n",
        "* XGBoost\n",
        "* LightGBM\n",
        "\n",
        "Use GridSearch to Finetune the selected model"
      ]
    },
    {
      "cell_type": "code",
      "metadata": {
        "id": "uLhXRuIAVU3x",
        "colab_type": "code",
        "colab": {}
      },
      "source": [
        "'''todo : \n",
        "* model selection\n",
        "* modeling\n",
        "'''"
      ],
      "execution_count": 0,
      "outputs": []
    },
    {
      "cell_type": "markdown",
      "metadata": {
        "id": "Srnjl0_YV21A",
        "colab_type": "text"
      },
      "source": [
        "## Conclusion"
      ]
    },
    {
      "cell_type": "code",
      "metadata": {
        "id": "NKzyNpvkV300",
        "colab_type": "code",
        "colab": {}
      },
      "source": [
        ""
      ],
      "execution_count": 0,
      "outputs": []
    }
  ]
}